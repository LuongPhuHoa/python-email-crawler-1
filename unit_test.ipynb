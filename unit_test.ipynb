{
 "cells": [
  {
   "cell_type": "markdown",
   "metadata": {
    "collapsed": true
   },
   "source": [
    "# Извлекаем все емайлы из резултирующего файла и его предшественника\n",
    "----------------\n",
    "\t\n",
    "\te1l = []\n",
    "\te2l = []\n",
    "\t\n",
    "\twith open(\"backup/emails.csv\") as e1:\n",
    "\t\tfor e in e1.readlines():\n",
    "\t\t\te1l.append(e)\n",
    "\twith open(\"backup/last-emails.csv\") as e1:\n",
    "\t\tfor e in e1.readlines():\n",
    "\t\t\te1l.append(e)\n",
    "print(set(e1l).difference(set(e2l)))"
   ]
  },
  {
   "cell_type": "code",
   "execution_count": 23,
   "metadata": {
    "collapsed": true
   },
   "outputs": [
    {
     "name": "stdout",
     "output_type": "stream",
     "text": [
      "В backup/emails.csv все переменные уникальны, их 1051\nВ backup/domains.csv все переменные уникальны, их 990\nВ backup/last-emails.csv все переменные уникальны, их 1332\nВ backup/last-domains.csv все переменные уникальны, их 1158\nОтлов емайлов в доменах в новой раздаче равен 106%\nОтлов емайлов в доменах в старой раздаче равен 115%\nВ последней раздаче было -168 новых домена из которых высосали -281 новых мыла\nВсе неявные зависимости подтверждены, результат удовлетворительный !\n"
     ]
    }
   ],
   "source": [
    "def extract_result(f_name):\n",
    "\t\n",
    "\tresult_list = []\n",
    "\t\n",
    "\twith open(f_name) as f:\n",
    "\t\tfor l in f.readlines():\n",
    "\t\t\tresult_list.append(l)\n",
    "\t\n",
    "\tresult_set = set(result_list)\n",
    "\t\n",
    "\tif len(result_set) == len(result_list):\n",
    "\t\tprint(f\"В {f_name} все переменные уникальны, их {len(result_list)}\")\n",
    "\telse:\n",
    "\t\tprint(f\"В {f_name} обнаружен дефект, имеются дубликаты\")\n",
    "\t\n",
    "\treturn result_list, result_set\n",
    "\n",
    "\n",
    "def delta_diff(new_e, new_d, old_e, old_d):\n",
    "\t\n",
    "\tdiff_e = set(old_e.difference(set(new_e)))\n",
    "\tdiff_d = set(old_d.difference(set(new_d)))\n",
    "\tdelta_e = len(new_e) - len(old_e)\n",
    "\tdelta_d = len(new_d) - len(old_d)\n",
    "\t\n",
    "\tqe_of_d_new = (len(new_e)/len(new_d)) * 100\n",
    "\tqe_of_d_old = (len(old_e)/len(old_d)) * 100\n",
    "\t\n",
    "\tprint(f\"Отлов емайлов в доменах в новой раздаче равен {int(qe_of_d_new)}%\")\n",
    "\tprint(f\"Отлов емайлов в доменах в старой раздаче равен {int(qe_of_d_old)}%\")\n",
    "\tprint(f\"В последней раздаче было {delta_d} новых домена из которых высосали {delta_e} новых мыла\")\n",
    "\t\n",
    "\treturn diff_e, diff_d, delta_e, delta_d\n",
    "\n",
    "new_e = extract_result(\"backup/emails.csv\")[1]\n",
    "new_d = extract_result(\"backup/domains.csv\")[1]\n",
    "\n",
    "old_e = extract_result(\"backup/last-emails.csv\")[1]\n",
    "old_d = extract_result(\"backup/last-domains.csv\")[1]\n",
    "\n",
    "diff_e, diff_d, delta_e, delta_d = delta_diff(new_e, new_d, old_e, old_d)\n",
    "\n",
    "print(\"Все неявные зависимости подтверждены, результат удовлетворительный !\")\n"
   ]
  },
  {
   "cell_type": "code",
   "execution_count": 4,
   "metadata": {},
   "outputs": [],
   "source": []
  },
  {
   "cell_type": "code",
   "execution_count": null,
   "metadata": {},
   "outputs": [],
   "source": []
  }
 ],
 "metadata": {
  "kernelspec": {
   "display_name": "Python 2",
   "language": "python",
   "name": "python2"
  },
  "language_info": {
   "codemirror_mode": {
    "name": "ipython",
    "version": 2
   },
   "file_extension": ".py",
   "mimetype": "text/x-python",
   "name": "python",
   "nbconvert_exporter": "python",
   "pygments_lexer": "ipython2",
   "version": "2.7.6"
  }
 },
 "nbformat": 4,
 "nbformat_minor": 0
}
